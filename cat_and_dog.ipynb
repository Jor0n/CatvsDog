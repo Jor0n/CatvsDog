{
  "cells": [
    {
      "cell_type": "code",
      "execution_count": null,
      "metadata": {
        "colab": {
          "base_uri": "https://localhost:8080/"
        },
        "id": "Dz5ORlTf7J9d",
        "outputId": "32060bc3-a287-4f31-9c34-3f2b5d3f51e8"
      },
      "outputs": [
        {
          "name": "stdout",
          "output_type": "stream",
          "text": [
            "Mounted at /content/gdrive/\n"
          ]
        }
      ],
      "source": [
        "from google.colab import drive\n",
        "drive.mount('/content/gdrive/')"
      ]
    },
    {
      "cell_type": "code",
      "execution_count": null,
      "metadata": {
        "id": "wSO2x5QKN9Gu"
      },
      "outputs": [],
      "source": [
        "import numpy as np\n",
        "from tqdm import tqdm\n",
        "from tensorflow import keras\n",
        "import tensorflow as tf\n",
        "import matplotlib.pyplot as plt\n",
        "%matplotlib inline\n",
        "import random\n",
        "import os\n",
        "import cv2\n",
        "from sklearn.model_selection import train_test_split\n",
        "import random\n",
        "from tensorflow.keras.utils import to_categorical\n"
      ]
    },
    {
      "cell_type": "code",
      "execution_count": null,
      "metadata": {
        "id": "CCyp7v7c6FLh"
      },
      "outputs": [],
      "source": [
        "DATADIR = '/content/gdrive/MyDrive/Dataset/PetImages'\n",
        "CATEGORIES = [\"Dog\",\"Cat\"]\n",
        "IMG_SIZE = 224\n",
        "\n",
        "training_data = []\n",
        "\n",
        "def create_training_data():\n",
        "    for category in CATEGORIES:\n",
        "        path = os.path.join(DATADIR,category)\n",
        "        class_num = CATEGORIES.index(category)\n",
        "        count = 0\n",
        "\n",
        "        for img in tqdm(os.listdir(path), desc=category, total=1000):\n",
        "            if count >= 1000:\n",
        "                break\n",
        "            try:\n",
        "                img_array = cv2.imread(os.path.join(path,img))\n",
        "                new_array = tf.cast(cv2.resize(img_array, (IMG_SIZE, IMG_SIZE)), tf.float32)\n",
        "                training_data.append([new_array, class_num])\n",
        "                count += 1\n",
        "                if count%200==0:\n",
        "                    print(f\"Successfully loaded and added {img} to training_data.\")\n",
        "            except Exception as e:\n",
        "                continue"
      ]
    },
    {
      "cell_type": "code",
      "execution_count": null,
      "metadata": {
        "colab": {
          "background_save": true,
          "base_uri": "https://localhost:8080/"
        },
        "id": "rpO9bkbK6Ggy",
        "outputId": "73750df5-8df2-4930-c20d-466fe7675399"
      },
      "outputs": [
        {
          "name": "stderr",
          "output_type": "stream",
          "text": [
            "Dog:   8%|▊         | 78/1000 [00:23<05:05,  3.02it/s]"
          ]
        }
      ],
      "source": [
        "create_training_data()\n",
        "random.shuffle(training_data)\n"
      ]
    },
    {
      "cell_type": "code",
      "execution_count": null,
      "metadata": {
        "id": "siLVULWP6JRC"
      },
      "outputs": [],
      "source": [
        "X = []\n",
        "y = []\n",
        "\n",
        "for features, label in training_data:\n",
        "    X.append(features)\n",
        "    y.append(label)\n",
        "\n",
        "# convert X and y to numpy arrays\n",
        "print()\n",
        "X = np.array(X)\n",
        "y = np.array(y)\n",
        "\n",
        "# split the data into training and testing sets\n",
        "\n",
        "X_train, X_test, y_train, y_test = train_test_split(X, y, test_size=0.2, random_state=42)\n",
        "\n",
        "y_train = to_categorical(y_train, 2)\n",
        "y_test = to_categorical(y_test, 2)\n",
        "# print the shape of training and testing sets\n",
        "print(X_train.shape)\n",
        "print(X_test.shape)\n",
        "print(y_train.shape)\n",
        "print(y_test.shape)\n"
      ]
    },
    {
      "cell_type": "code",
      "execution_count": null,
      "metadata": {
        "id": "FPplnGGX6K-N"
      },
      "outputs": [],
      "source": [
        "callback = keras.callbacks.EarlyStopping(monitor = 'accuracy')\n",
        "\n",
        "model = keras.Sequential([\n",
        "\n",
        "    keras.layers.Conv2D(64,3, activation = tf.nn.relu, input_shape = (224,224,3)),\n",
        "    keras.layers.Conv2D(64,3, activation = tf.nn.relu),\n",
        "    keras.layers.MaxPooling2D(2),\n",
        "\n",
        "    keras.layers.Conv2D(128,3, activation = tf.nn.relu),\n",
        "    keras.layers.Conv2D(128,3, activation = tf.nn.relu),\n",
        "    keras.layers.MaxPooling2D(2),\n",
        "\n",
        "    keras.layers.Conv2D(256,3, activation = tf.nn.relu),\n",
        "    keras.layers.Conv2D(256,3, activation = tf.nn.relu),\n",
        "    keras.layers.Conv2D(256,3, activation = tf.nn.relu),\n",
        "    keras.layers.MaxPooling2D(2),\n",
        "\n",
        "    keras.layers.Conv2D(512,3, activation = tf.nn.relu),\n",
        "    keras.layers.Conv2D(512,3, activation = tf.nn.relu),\n",
        "    keras.layers.Conv2D(512,3, activation = tf.nn.relu),\n",
        "    keras.layers.MaxPooling2D(2),\n",
        "\n",
        "    keras.layers.Conv2D(512,3, activation = tf.nn.relu),\n",
        "    keras.layers.Conv2D(512,3, activation = tf.nn.relu),\n",
        "    keras.layers.Conv2D(512,3, activation = tf.nn.relu),\n",
        "    keras.layers.MaxPooling2D(2),\n",
        "\n",
        "    keras.layers.Flatten(),\n",
        "\n",
        "    keras.layers.Dense(4096, activation = tf.nn.relu),\n",
        "    keras.layers.Dense(4096, activation = tf.nn.relu),\n",
        "    keras.layers.Dense(1000, activation = tf.nn.relu),\n",
        "\n",
        "    keras.layers.Dense(2, activation=tf.nn.softmax)\n",
        "])\n",
        "\n",
        "\n",
        "\n",
        "model.compile(optimizer= 'adam',#use the Adam optimizer for training the model\n",
        "              loss='categorical_crossentropy',   # use sparse categorical cross-entropy loss as the loss function\n",
        "              metrics=['accuracy'])               # use accuracy as the evaluation metric\n",
        "\n",
        "model.fit(X_train, y_train, epochs = 10, validation_data = (X_test, y_test)) # Train the model on the training data\n",
        "\n",
        "# Evaluate the model on the test set\n",
        "#test_loss, test_acc = model.evaluate(X_test, y_test)\n",
        "\n",
        "# Print the accuracy on the test set\n",
        "#print(\"Test accuracy:\", test_acc)"
      ]
    }
  ],
  "metadata": {
    "colab": {
      "provenance": []
    },
    "kernelspec": {
      "display_name": "Python 3",
      "name": "python3"
    },
    "language_info": {
      "name": "python"
    }
  },
  "nbformat": 4,
  "nbformat_minor": 0
}